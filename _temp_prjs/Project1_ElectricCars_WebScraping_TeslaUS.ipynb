{
 "cells": [
  {
   "cell_type": "code",
   "execution_count": 1,
   "metadata": {},
   "outputs": [],
   "source": [
    "import pandas as pd\n",
    "f = open(\"tesla.csv\", \"r\")\n",
    "#print(f.read())"
   ]
  },
  {
   "cell_type": "code",
   "execution_count": 2,
   "metadata": {},
   "outputs": [],
   "source": [
    "header_names = ['Year', 'Sales', 'Growth', 'Market_Share']\n",
    "tesla_table = pd.read_csv(\"tesla.csv\", header=None, names = header_names)"
   ]
  },
  {
   "cell_type": "code",
   "execution_count": 3,
   "metadata": {},
   "outputs": [
    {
     "name": "stdout",
     "output_type": "stream",
     "text": [
      "   Year    Sales  Growth  Market_Share\n",
      "0  2015   25,416   52.29          0.13\n",
      "1  2016   47,644   87.46          0.27\n",
      "2  2017   50,145    5.25          0.29\n",
      "3  2018  191,627  282.15          1.11\n",
      "4  2019  192,250    0.33          1.12\n"
     ]
    }
   ],
   "source": [
    "print(tesla_table)"
   ]
  },
  {
   "cell_type": "code",
   "execution_count": 4,
   "metadata": {},
   "outputs": [],
   "source": [
    "tesla_table.to_csv(\"tesla_us.csv\")"
   ]
  },
  {
   "cell_type": "code",
   "execution_count": 5,
   "metadata": {},
   "outputs": [
    {
     "name": "stdout",
     "output_type": "stream",
     "text": [
      ",Year,Sales,Growth,Market_Share\n",
      "0,2015,\"25,416\",52.29,0.13\n",
      "1,2016,\"47,644\",87.46,0.27\n",
      "2,2017,\"50,145\",5.25,0.29\n",
      "3,2018,\"191,627\",282.15,1.11\n",
      "4,2019,\"192,250\",0.33,1.12\n",
      "\n"
     ]
    }
   ],
   "source": [
    "g = open(\"tesla_us.csv\", \"r\")\n",
    "print(g.read())"
   ]
  },
  {
   "cell_type": "code",
   "execution_count": null,
   "metadata": {},
   "outputs": [],
   "source": []
  }
 ],
 "metadata": {
  "kernelspec": {
   "display_name": "Python 3",
   "language": "python",
   "name": "python3"
  },
  "language_info": {
   "codemirror_mode": {
    "name": "ipython",
    "version": 3
   },
   "file_extension": ".py",
   "mimetype": "text/x-python",
   "name": "python",
   "nbconvert_exporter": "python",
   "pygments_lexer": "ipython3",
   "version": "3.7.6"
  }
 },
 "nbformat": 4,
 "nbformat_minor": 4
}
