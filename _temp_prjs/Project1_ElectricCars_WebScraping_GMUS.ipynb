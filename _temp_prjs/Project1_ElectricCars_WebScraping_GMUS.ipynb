{
 "cells": [
  {
   "cell_type": "code",
   "execution_count": 3,
   "metadata": {},
   "outputs": [],
   "source": [
    "import pandas as pd\n",
    "f = open(\"gm.csv\", \"r\")\n",
    "#print(f.read())"
   ]
  },
  {
   "cell_type": "code",
   "execution_count": 4,
   "metadata": {},
   "outputs": [],
   "source": [
    "header_names = ['Year', 'Sales', 'Growth', 'Market_Share']\n",
    "gm_table = pd.read_csv(\"gm.csv\", header=None, names = header_names)"
   ]
  },
  {
   "cell_type": "code",
   "execution_count": 5,
   "metadata": {},
   "outputs": [
    {
     "name": "stdout",
     "output_type": "stream",
     "text": [
      "    Year      Sales  Growth  Market_Share\n",
      "0   1997  2,484,945   -2.24         16.40\n",
      "1   1998  2,426,530   -2.35         15.60\n",
      "2   1999  2,610,324    7.57         15.50\n",
      "3   2000  2,615,884    0.21         15.10\n",
      "4   2001  2,689,954    2.83         15.70\n",
      "5   2002  2,642,786   -1.75         15.70\n",
      "6   2003  2,641,586   -0.05         15.84\n",
      "7   2004  2,748,365    4.04         16.25\n",
      "8   2005  2,651,124   -3.54         15.60\n",
      "9   2006  2,396,532   -9.60         14.47\n",
      "10  2007  2,250,352   -6.10         13.93\n",
      "11  2008  1,790,519  -20.43         13.52\n",
      "12  2009  1,338,612  -25.24         12.83\n",
      "13  2010  1,563,881   16.83         13.49\n",
      "14  2011  1,775,802   13.55         13.90\n",
      "15  2012  1,851,646    4.27         12.78\n",
      "16  2013  1,947,125    5.16         12.50\n",
      "17  2014  2,033,442    4.43         12.30\n",
      "18  2015  2,125,347    4.52         12.17\n",
      "19  2016  2,096,508   -1.36         11.95\n",
      "20  2017  2,065,879   -1.46         12.00\n",
      "21  2018  2,036,023   -1.45         11.75\n",
      "22  2019  1,958,783   -3.79         11.46\n"
     ]
    }
   ],
   "source": [
    "print(gm_table)"
   ]
  },
  {
   "cell_type": "code",
   "execution_count": 6,
   "metadata": {},
   "outputs": [],
   "source": [
    "gm_table.to_csv(\"GM_us.csv\")"
   ]
  },
  {
   "cell_type": "code",
   "execution_count": 7,
   "metadata": {},
   "outputs": [
    {
     "name": "stdout",
     "output_type": "stream",
     "text": [
      ",Year,Sales,Growth,Market_Share\n",
      "0,1997,\"2,484,945\",-2.24,16.4\n",
      "1,1998,\"2,426,530\",-2.35,15.6\n",
      "2,1999,\"2,610,324\",7.57,15.5\n",
      "3,2000,\"2,615,884\",0.21,15.1\n",
      "4,2001,\"2,689,954\",2.83,15.7\n",
      "5,2002,\"2,642,786\",-1.75,15.7\n",
      "6,2003,\"2,641,586\",-0.05,15.84\n",
      "7,2004,\"2,748,365\",4.04,16.25\n",
      "8,2005,\"2,651,124\",-3.54,15.6\n",
      "9,2006,\"2,396,532\",-9.6,14.47\n",
      "10,2007,\"2,250,352\",-6.1,13.93\n",
      "11,2008,\"1,790,519\",-20.43,13.52\n",
      "12,2009,\"1,338,612\",-25.24,12.83\n",
      "13,2010,\"1,563,881\",16.83,13.49\n",
      "14,2011,\"1,775,802\",13.55,13.9\n",
      "15,2012,\"1,851,646\",4.27,12.78\n",
      "16,2013,\"1,947,125\",5.16,12.5\n",
      "17,2014,\"2,033,442\",4.43,12.3\n",
      "18,2015,\"2,125,347\",4.52,12.17\n",
      "19,2016,\"2,096,508\",-1.36,11.95\n",
      "20,2017,\"2,065,879\",-1.46,12.0\n",
      "21,2018,\"2,036,023\",-1.45,11.75\n",
      "22,2019,\"1,958,783\",-3.79,11.46\n",
      "\n"
     ]
    }
   ],
   "source": [
    "g = open(\"GM_us.csv\", \"r\")\n",
    "print(g.read())"
   ]
  },
  {
   "cell_type": "code",
   "execution_count": null,
   "metadata": {},
   "outputs": [],
   "source": []
  }
 ],
 "metadata": {
  "kernelspec": {
   "display_name": "Python 3",
   "language": "python",
   "name": "python3"
  },
  "language_info": {
   "codemirror_mode": {
    "name": "ipython",
    "version": 3
   },
   "file_extension": ".py",
   "mimetype": "text/x-python",
   "name": "python",
   "nbconvert_exporter": "python",
   "pygments_lexer": "ipython3",
   "version": "3.7.6"
  }
 },
 "nbformat": 4,
 "nbformat_minor": 4
}
