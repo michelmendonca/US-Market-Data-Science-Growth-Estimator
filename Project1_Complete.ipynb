{
 "cells": [
  {
   "cell_type": "markdown",
   "metadata": {},
   "source": [
    "  "
   ]
  },
  {
   "cell_type": "markdown",
   "metadata": {},
   "source": [
    "## Analysis of US cars market comparing the growth of \n",
    "## Ford, GM, Toyota and Tesla during the past years."
   ]
  },
  {
   "cell_type": "markdown",
   "metadata": {},
   "source": [
    " =========="
   ]
  },
  {
   "cell_type": "markdown",
   "metadata": {},
   "source": [
    "Web scrapped originally from:\n",
    "\n",
    "URL: https://carsalesbase.com/car-sales-us-home-main/car-sales-by-brand-us/"
   ]
  },
  {
   "cell_type": "markdown",
   "metadata": {},
   "source": [
    "@author: Michel Mendonca"
   ]
  },
  {
   "cell_type": "markdown",
   "metadata": {},
   "source": [
    "=========="
   ]
  },
  {
   "cell_type": "markdown",
   "metadata": {},
   "source": [
    "# Web scrapping"
   ]
  },
  {
   "cell_type": "code",
   "execution_count": 4,
   "metadata": {},
   "outputs": [],
   "source": [
    "import scrapy\n",
    "import itertools\n",
    "from itertools import chain\n",
    "import csv\n",
    "import pandas as pd"
   ]
  },
  {
   "cell_type": "markdown",
   "metadata": {},
   "source": [
    "\n",
    "class project1_carsSpider(scrapy.Spider):\n",
    "    name = 'project1_cars_ford'\n",
    "    allowed_domains = ['Mozilla/5.0 (compatible; Googlebot/2.1; +http://www.google.com/bot.html)']\n",
    "    start_urls = ['https://carsalesbase.com/us-ford/']\n",
    "\n",
    "    def parse(self, response):\n",
    "        # table : id = \"table_3\"\n",
    "        # class_ : \"responsive display nowrap data-t data-t wpDataTable dataTable no-footer\"\n",
    "\n",
    "        rows = response.css(\"table\")[1].css('tr') # the first .css looks for the table we want and the secound .css looks for the rows\n",
    "        row = rows.css('td').css('::text').getall()\n",
    "        n = 4\n",
    "        splited = [row[i::n] for i in range(n)]\n",
    "\n",
    "        year = splited[3]\n",
    "        sales = splited[0][1:]\n",
    "        growth = splited[1][1:]\n",
    "        market_share = splited[2][1:]\n",
    "\n",
    "        zippedlist = list(zip(year, sales, growth, market_share))\n",
    "        #toyota_table = pd.DataFrame(zippedlist, columns = [\"Year\", \"Age\", \"Growth\", \"Market_Share\"])\n",
    "        #print(zippedlist)\n",
    "        f = open('ford.csv', 'w')\n",
    "        with f:\n",
    "            writer = csv.writer(f)\n",
    "            writer.writerows(zippedlist)\n",
    "\n",
    "        #print(splited)"
   ]
  },
  {
   "cell_type": "markdown",
   "metadata": {},
   "source": [
    "=========="
   ]
  },
  {
   "cell_type": "markdown",
   "metadata": {},
   "source": [
    "I have saved one file for each company's table using the code above and reloaded into this notebook for a future join."
   ]
  },
  {
   "cell_type": "markdown",
   "metadata": {},
   "source": [
    "=========="
   ]
  },
  {
   "cell_type": "markdown",
   "metadata": {},
   "source": [
    "# Exploratory Data Analysis"
   ]
  },
  {
   "cell_type": "markdown",
   "metadata": {},
   "source": [
    " "
   ]
  },
  {
   "cell_type": "code",
   "execution_count": 3,
   "metadata": {},
   "outputs": [],
   "source": [
    "#code for extra Data Cleaning\n",
    "\n",
    "#fordData_out = toyotaData.drop('Unnamed: 0', axis = 1) # It drops the first Unnamed column\n",
    "#toyotaData_out.to_csv('Toyota_us.csv', index = False) # It saves without the first column Unnamed"
   ]
  },
  {
   "cell_type": "code",
   "execution_count": 4,
   "metadata": {},
   "outputs": [],
   "source": [
    "# This code sorts the column 'Year'\n",
    "\n",
    "#df_toyotaData = DataFrame(toyotaData)\n",
    "#toyotaData_out = df_toyotaData.sort_values(['Year'], ascending=False)\n",
    "#toyotaData_out.head()"
   ]
  },
  {
   "cell_type": "code",
   "execution_count": 5,
   "metadata": {},
   "outputs": [],
   "source": [
    "import pandas as pd\n",
    "from pandas import DataFrame\n",
    "import matplotlib.pyplot as plt\n",
    "import seaborn as sns\n",
    "import numpy as np "
   ]
  },
  {
   "cell_type": "code",
   "execution_count": null,
   "metadata": {},
   "outputs": [],
   "source": [
    "fordData = pd.read_csv('fordUS.csv')\n",
    "#fordData.head()"
   ]
  },
  {
   "cell_type": "code",
   "execution_count": null,
   "metadata": {},
   "outputs": [],
   "source": [
    "teslaData = pd.read_csv('teslaUS.csv')\n",
    "teslaData1 = pd.read_csv('Tesla_us.csv')\n",
    "#teslaData1.()"
   ]
  },
  {
   "cell_type": "code",
   "execution_count": null,
   "metadata": {},
   "outputs": [],
   "source": [
    "gmData = pd.read_csv(\"gmUS.csv\")\n",
    "#gmData.head()"
   ]
  },
  {
   "cell_type": "code",
   "execution_count": null,
   "metadata": {},
   "outputs": [],
   "source": [
    "toyotaData = pd.read_csv(\"toyotaUS.csv\")\n",
    "#toyotaData.head()"
   ]
  },
  {
   "cell_type": "code",
   "execution_count": null,
   "metadata": {},
   "outputs": [],
   "source": [
    "Heads = ['Year', 'Toyota_Sales', 'Toyota_Growth', 'Toyota_Market_Share']\n",
    "superDF = pd.read_csv(\"toyotaUS.csv\", header=None, names = Heads)"
   ]
  },
  {
   "cell_type": "code",
   "execution_count": null,
   "metadata": {},
   "outputs": [],
   "source": [
    "gmdf = gmData.columns = ['Year', 'GM_Sales', 'GM_Growth', 'GM_Market_Share']"
   ]
  },
  {
   "cell_type": "code",
   "execution_count": null,
   "metadata": {},
   "outputs": [],
   "source": [
    "teslaDF1.columns = ['Year', 'Tesla_Sales', 'Tesla_Growth', 'Tesla_Market_Share']"
   ]
  },
  {
   "cell_type": "code",
   "execution_count": null,
   "metadata": {},
   "outputs": [],
   "source": [
    "fordData.columns = ['Year', 'Ford_Sales', 'Ford_Growth', 'Ford_Market_Share']"
   ]
  },
  {
   "cell_type": "code",
   "execution_count": null,
   "metadata": {},
   "outputs": [],
   "source": [
    "toyotaData.columns = ['Year', 'Toyota_Sales', 'Toyota_Growth', 'Toyota_Market_Share']\n"
   ]
  },
  {
   "cell_type": "markdown",
   "metadata": {},
   "source": [
    "I have Joined all the DF's columns into the MainDF using this code."
   ]
  },
  {
   "cell_type": "code",
   "execution_count": null,
   "metadata": {},
   "outputs": [],
   "source": [
    "Ford_Market_Share = fordData[\"Ford_Market_Share\"]\n",
    "MainDF = MainDF.join(Ford_Market_Share)\n",
    "MainDF.head()"
   ]
  },
  {
   "cell_type": "code",
   "execution_count": null,
   "metadata": {},
   "outputs": [],
   "source": [
    "MainDF.to_csv('MainDF.csv', index = False) # It saves without the first column Unnamed"
   ]
  },
  {
   "cell_type": "code",
   "execution_count": null,
   "metadata": {},
   "outputs": [],
   "source": [
    "#list(df.columns.values)"
   ]
  },
  {
   "cell_type": "code",
   "execution_count": null,
   "metadata": {},
   "outputs": [],
   "source": [
    "#df = df[['Year', 'Toyota_Sales', 'Tesla_Sales', 'GM_Sales', 'Ford_Sales', 'Toyota_Growth', 'Tesla_Growth', 'GM_Growth', 'Ford_Growth', 'Toyota_Market_Share', 'Tesla_Market_Share', 'GM_Market_Share', 'Ford_Market_Share' ]]"
   ]
  },
  {
   "cell_type": "code",
   "execution_count": null,
   "metadata": {},
   "outputs": [],
   "source": [
    "#df.to_csv('MainDF.csv', index = False) # It saves without the first column Unnamed"
   ]
  },
  {
   "cell_type": "markdown",
   "metadata": {},
   "source": [
    "I also had to transform all de NaN values into 0 to procedure with the further ML analysis."
   ]
  },
  {
   "cell_type": "code",
   "execution_count": 3,
   "metadata": {
    "scrolled": true
   },
   "outputs": [],
   "source": [
    "#df_raw = pd.read_csv(\"MainDF.csv\")\n",
    "#df = df_raw.sort_values(['Year'], ascending=False)\n",
    "#df.replace(np.nan, 0, inplace=True) \n",
    "#df.columns"
   ]
  },
  {
   "cell_type": "code",
   "execution_count": 26,
   "metadata": {},
   "outputs": [
    {
     "data": {
      "text/html": [
       "<div>\n",
       "<style scoped>\n",
       "    .dataframe tbody tr th:only-of-type {\n",
       "        vertical-align: middle;\n",
       "    }\n",
       "\n",
       "    .dataframe tbody tr th {\n",
       "        vertical-align: top;\n",
       "    }\n",
       "\n",
       "    .dataframe thead th {\n",
       "        text-align: right;\n",
       "    }\n",
       "</style>\n",
       "<table border=\"1\" class=\"dataframe\">\n",
       "  <thead>\n",
       "    <tr style=\"text-align: right;\">\n",
       "      <th></th>\n",
       "      <th>Year</th>\n",
       "      <th>Toyota_Sales</th>\n",
       "      <th>Tesla_Sales</th>\n",
       "      <th>GM_Sales</th>\n",
       "      <th>Ford_Sales</th>\n",
       "      <th>Toyota_Growth</th>\n",
       "      <th>Tesla_Growth</th>\n",
       "      <th>GM_Growth</th>\n",
       "      <th>Ford_Growth</th>\n",
       "      <th>Toyota_Market_Share</th>\n",
       "      <th>Tesla_Market_Share</th>\n",
       "      <th>GM_Market_Share</th>\n",
       "      <th>Ford_Market_Share</th>\n",
       "      <th>GMToyotaFord_SalesAv</th>\n",
       "      <th>GMToyotaFord_GrowthAv</th>\n",
       "      <th>TotalSalesAv</th>\n",
       "      <th>TotalGrowthAv</th>\n",
       "    </tr>\n",
       "  </thead>\n",
       "  <tbody>\n",
       "    <tr>\n",
       "      <th>0</th>\n",
       "      <td>2019</td>\n",
       "      <td>2085186.0</td>\n",
       "      <td>192250.0</td>\n",
       "      <td>1958783.0</td>\n",
       "      <td>2293984.0</td>\n",
       "      <td>-2.02</td>\n",
       "      <td>0.33</td>\n",
       "      <td>-3.79</td>\n",
       "      <td>-3.68</td>\n",
       "      <td>12.22</td>\n",
       "      <td>1.12</td>\n",
       "      <td>11.46</td>\n",
       "      <td>13.42</td>\n",
       "      <td>2112651.00</td>\n",
       "      <td>-3.16</td>\n",
       "      <td>1632550.75</td>\n",
       "      <td>-2.29</td>\n",
       "    </tr>\n",
       "    <tr>\n",
       "      <th>1</th>\n",
       "      <td>2018</td>\n",
       "      <td>2128201.0</td>\n",
       "      <td>191627.0</td>\n",
       "      <td>2036023.0</td>\n",
       "      <td>2381635.0</td>\n",
       "      <td>-0.05</td>\n",
       "      <td>282.15</td>\n",
       "      <td>-1.45</td>\n",
       "      <td>-3.34</td>\n",
       "      <td>12.28</td>\n",
       "      <td>1.11</td>\n",
       "      <td>11.75</td>\n",
       "      <td>13.74</td>\n",
       "      <td>2181953.00</td>\n",
       "      <td>-1.61</td>\n",
       "      <td>1684371.50</td>\n",
       "      <td>69.33</td>\n",
       "    </tr>\n",
       "    <tr>\n",
       "      <th>2</th>\n",
       "      <td>2017</td>\n",
       "      <td>2129177.0</td>\n",
       "      <td>50145.0</td>\n",
       "      <td>2065879.0</td>\n",
       "      <td>2464041.0</td>\n",
       "      <td>1.08</td>\n",
       "      <td>5.25</td>\n",
       "      <td>-1.46</td>\n",
       "      <td>-0.94</td>\n",
       "      <td>12.35</td>\n",
       "      <td>0.29</td>\n",
       "      <td>12.00</td>\n",
       "      <td>14.29</td>\n",
       "      <td>2219699.00</td>\n",
       "      <td>-0.44</td>\n",
       "      <td>1677310.50</td>\n",
       "      <td>0.98</td>\n",
       "    </tr>\n",
       "    <tr>\n",
       "      <th>3</th>\n",
       "      <td>2016</td>\n",
       "      <td>2106332.0</td>\n",
       "      <td>47644.0</td>\n",
       "      <td>2096508.0</td>\n",
       "      <td>2487487.0</td>\n",
       "      <td>0.37</td>\n",
       "      <td>87.46</td>\n",
       "      <td>-1.36</td>\n",
       "      <td>-0.57</td>\n",
       "      <td>12.01</td>\n",
       "      <td>0.27</td>\n",
       "      <td>11.95</td>\n",
       "      <td>14.18</td>\n",
       "      <td>2230109.00</td>\n",
       "      <td>-0.52</td>\n",
       "      <td>1684492.75</td>\n",
       "      <td>21.48</td>\n",
       "    </tr>\n",
       "    <tr>\n",
       "      <th>4</th>\n",
       "      <td>2015</td>\n",
       "      <td>2098545.0</td>\n",
       "      <td>25416.0</td>\n",
       "      <td>2125347.0</td>\n",
       "      <td>2501855.0</td>\n",
       "      <td>4.70</td>\n",
       "      <td>52.29</td>\n",
       "      <td>4.52</td>\n",
       "      <td>5.26</td>\n",
       "      <td>12.01</td>\n",
       "      <td>0.13</td>\n",
       "      <td>12.17</td>\n",
       "      <td>14.32</td>\n",
       "      <td>2241915.67</td>\n",
       "      <td>4.83</td>\n",
       "      <td>1687790.75</td>\n",
       "      <td>16.69</td>\n",
       "    </tr>\n",
       "  </tbody>\n",
       "</table>\n",
       "</div>"
      ],
      "text/plain": [
       "   Year  Toyota_Sales  Tesla_Sales   GM_Sales  Ford_Sales  Toyota_Growth  \\\n",
       "0  2019     2085186.0     192250.0  1958783.0   2293984.0          -2.02   \n",
       "1  2018     2128201.0     191627.0  2036023.0   2381635.0          -0.05   \n",
       "2  2017     2129177.0      50145.0  2065879.0   2464041.0           1.08   \n",
       "3  2016     2106332.0      47644.0  2096508.0   2487487.0           0.37   \n",
       "4  2015     2098545.0      25416.0  2125347.0   2501855.0           4.70   \n",
       "\n",
       "   Tesla_Growth  GM_Growth  Ford_Growth  Toyota_Market_Share  \\\n",
       "0          0.33      -3.79        -3.68                12.22   \n",
       "1        282.15      -1.45        -3.34                12.28   \n",
       "2          5.25      -1.46        -0.94                12.35   \n",
       "3         87.46      -1.36        -0.57                12.01   \n",
       "4         52.29       4.52         5.26                12.01   \n",
       "\n",
       "   Tesla_Market_Share  GM_Market_Share  Ford_Market_Share  \\\n",
       "0                1.12            11.46              13.42   \n",
       "1                1.11            11.75              13.74   \n",
       "2                0.29            12.00              14.29   \n",
       "3                0.27            11.95              14.18   \n",
       "4                0.13            12.17              14.32   \n",
       "\n",
       "   GMToyotaFord_SalesAv  GMToyotaFord_GrowthAv  TotalSalesAv  TotalGrowthAv  \n",
       "0            2112651.00                  -3.16    1632550.75          -2.29  \n",
       "1            2181953.00                  -1.61    1684371.50          69.33  \n",
       "2            2219699.00                  -0.44    1677310.50           0.98  \n",
       "3            2230109.00                  -0.52    1684492.75          21.48  \n",
       "4            2241915.67                   4.83    1687790.75          16.69  "
      ]
     },
     "execution_count": 26,
     "metadata": {},
     "output_type": "execute_result"
    }
   ],
   "source": [
    "df['GMToyotaFord_SalesAv'] = df[['Toyota_Sales', 'GM_Sales', 'Ford_Sales']].mean(axis=1)\n",
    "df['GMToyotaFord_GrowthAv'] = df[['Toyota_Growth', 'GM_Growth', 'Ford_Growth']].mean(axis=1)\n",
    "df['TotalSalesAv'] = df[['Toyota_Sales','Tesla_Sales', 'GM_Sales', 'Ford_Sales']].mean(axis=1)\n",
    "df['TotalGrowthAv'] = df[['Toyota_Growth', 'Tesla_Growth', 'GM_Growth', 'Ford_Growth']].mean(axis=1)\n",
    "df = df.round(2)\n",
    "df.head()"
   ]
  },
  {
   "cell_type": "code",
   "execution_count": 27,
   "metadata": {},
   "outputs": [],
   "source": [
    "df.to_csv('uscars_df.csv', index = False) # It saves without the first column Unnamed"
   ]
  },
  {
   "cell_type": "markdown",
   "metadata": {},
   "source": [
    "# Exploratory Data Analysis - EDA"
   ]
  },
  {
   "cell_type": "code",
   "execution_count": 6,
   "metadata": {},
   "outputs": [],
   "source": [
    "df = pd.read_csv(\"uscars_df.csv\")"
   ]
  },
  {
   "cell_type": "code",
   "execution_count": 7,
   "metadata": {
    "scrolled": true
   },
   "outputs": [],
   "source": [
    "df_Growth = df[[\"Year\",\"TotalGrowthAv\", \"GMToyotaFord_GrowthAv\",'Toyota_Growth', 'Tesla_Growth', 'GM_Growth', 'Ford_Growth']]\n",
    "df_Growth.to_csv('USGrowth10.csv', index = False)"
   ]
  },
  {
   "cell_type": "code",
   "execution_count": 8,
   "metadata": {
    "scrolled": true
   },
   "outputs": [
    {
     "data": {
      "text/html": [
       "<div>\n",
       "<style scoped>\n",
       "    .dataframe tbody tr th:only-of-type {\n",
       "        vertical-align: middle;\n",
       "    }\n",
       "\n",
       "    .dataframe tbody tr th {\n",
       "        vertical-align: top;\n",
       "    }\n",
       "\n",
       "    .dataframe thead th {\n",
       "        text-align: right;\n",
       "    }\n",
       "</style>\n",
       "<table border=\"1\" class=\"dataframe\">\n",
       "  <thead>\n",
       "    <tr style=\"text-align: right;\">\n",
       "      <th></th>\n",
       "      <th>Year</th>\n",
       "      <th>TotalGrowthAv</th>\n",
       "      <th>GMToyotaFord_GrowthAv</th>\n",
       "      <th>Toyota_Growth</th>\n",
       "      <th>Tesla_Growth</th>\n",
       "      <th>GM_Growth</th>\n",
       "      <th>Ford_Growth</th>\n",
       "    </tr>\n",
       "  </thead>\n",
       "  <tbody>\n",
       "    <tr>\n",
       "      <th>count</th>\n",
       "      <td>39.000000</td>\n",
       "      <td>39.000000</td>\n",
       "      <td>39.000000</td>\n",
       "      <td>39.000000</td>\n",
       "      <td>39.000000</td>\n",
       "      <td>39.000000</td>\n",
       "      <td>39.000000</td>\n",
       "    </tr>\n",
       "    <tr>\n",
       "      <th>mean</th>\n",
       "      <td>2000.000000</td>\n",
       "      <td>3.281795</td>\n",
       "      <td>0.721538</td>\n",
       "      <td>3.152821</td>\n",
       "      <td>10.961026</td>\n",
       "      <td>-0.408974</td>\n",
       "      <td>-0.580000</td>\n",
       "    </tr>\n",
       "    <tr>\n",
       "      <th>std</th>\n",
       "      <td>11.401754</td>\n",
       "      <td>12.479666</td>\n",
       "      <td>6.097249</td>\n",
       "      <td>8.769463</td>\n",
       "      <td>47.388143</td>\n",
       "      <td>6.991195</td>\n",
       "      <td>7.224811</td>\n",
       "    </tr>\n",
       "    <tr>\n",
       "      <th>min</th>\n",
       "      <td>1981.000000</td>\n",
       "      <td>-14.590000</td>\n",
       "      <td>-19.450000</td>\n",
       "      <td>-18.850000</td>\n",
       "      <td>0.000000</td>\n",
       "      <td>-25.240000</td>\n",
       "      <td>-19.490000</td>\n",
       "    </tr>\n",
       "    <tr>\n",
       "      <th>25%</th>\n",
       "      <td>1990.500000</td>\n",
       "      <td>-1.190000</td>\n",
       "      <td>-1.680000</td>\n",
       "      <td>-0.625000</td>\n",
       "      <td>0.000000</td>\n",
       "      <td>-1.455000</td>\n",
       "      <td>-3.405000</td>\n",
       "    </tr>\n",
       "    <tr>\n",
       "      <th>50%</th>\n",
       "      <td>2000.000000</td>\n",
       "      <td>1.170000</td>\n",
       "      <td>0.440000</td>\n",
       "      <td>4.840000</td>\n",
       "      <td>0.000000</td>\n",
       "      <td>0.000000</td>\n",
       "      <td>0.000000</td>\n",
       "    </tr>\n",
       "    <tr>\n",
       "      <th>75%</th>\n",
       "      <td>2009.500000</td>\n",
       "      <td>3.430000</td>\n",
       "      <td>3.370000</td>\n",
       "      <td>7.430000</td>\n",
       "      <td>0.000000</td>\n",
       "      <td>0.105000</td>\n",
       "      <td>0.015000</td>\n",
       "    </tr>\n",
       "    <tr>\n",
       "      <th>max</th>\n",
       "      <td>2019.000000</td>\n",
       "      <td>69.330000</td>\n",
       "      <td>12.660000</td>\n",
       "      <td>26.340000</td>\n",
       "      <td>282.150000</td>\n",
       "      <td>16.830000</td>\n",
       "      <td>21.650000</td>\n",
       "    </tr>\n",
       "  </tbody>\n",
       "</table>\n",
       "</div>"
      ],
      "text/plain": [
       "              Year  TotalGrowthAv  GMToyotaFord_GrowthAv  Toyota_Growth  \\\n",
       "count    39.000000      39.000000              39.000000      39.000000   \n",
       "mean   2000.000000       3.281795               0.721538       3.152821   \n",
       "std      11.401754      12.479666               6.097249       8.769463   \n",
       "min    1981.000000     -14.590000             -19.450000     -18.850000   \n",
       "25%    1990.500000      -1.190000              -1.680000      -0.625000   \n",
       "50%    2000.000000       1.170000               0.440000       4.840000   \n",
       "75%    2009.500000       3.430000               3.370000       7.430000   \n",
       "max    2019.000000      69.330000              12.660000      26.340000   \n",
       "\n",
       "       Tesla_Growth  GM_Growth  Ford_Growth  \n",
       "count     39.000000  39.000000    39.000000  \n",
       "mean      10.961026  -0.408974    -0.580000  \n",
       "std       47.388143   6.991195     7.224811  \n",
       "min        0.000000 -25.240000   -19.490000  \n",
       "25%        0.000000  -1.455000    -3.405000  \n",
       "50%        0.000000   0.000000     0.000000  \n",
       "75%        0.000000   0.105000     0.015000  \n",
       "max      282.150000  16.830000    21.650000  "
      ]
     },
     "execution_count": 8,
     "metadata": {},
     "output_type": "execute_result"
    }
   ],
   "source": [
    "df_Growth.describe()"
   ]
  },
  {
   "cell_type": "code",
   "execution_count": 9,
   "metadata": {},
   "outputs": [
    {
     "name": "stdout",
     "output_type": "stream",
     "text": [
      "<class 'pandas.core.frame.DataFrame'>\n",
      "RangeIndex: 39 entries, 0 to 38\n",
      "Data columns (total 7 columns):\n",
      " #   Column                 Non-Null Count  Dtype  \n",
      "---  ------                 --------------  -----  \n",
      " 0   Year                   39 non-null     int64  \n",
      " 1   TotalGrowthAv          39 non-null     float64\n",
      " 2   GMToyotaFord_GrowthAv  39 non-null     float64\n",
      " 3   Toyota_Growth          39 non-null     float64\n",
      " 4   Tesla_Growth           39 non-null     float64\n",
      " 5   GM_Growth              39 non-null     float64\n",
      " 6   Ford_Growth            39 non-null     float64\n",
      "dtypes: float64(6), int64(1)\n",
      "memory usage: 2.3 KB\n"
     ]
    }
   ],
   "source": [
    "df_Growth.info()"
   ]
  },
  {
   "cell_type": "code",
   "execution_count": 10,
   "metadata": {},
   "outputs": [
    {
     "data": {
      "text/plain": [
       "<seaborn.axisgrid.JointGrid at 0x7f9c3a24c310>"
      ]
     },
     "execution_count": 10,
     "metadata": {},
     "output_type": "execute_result"
    },
    {
     "data": {
      "image/png": "[encoded data removed]",
      "text/plain": [
       "<Figure size 432x432 with 3 Axes>"
      ]
     },
     "metadata": {
      "needs_background": "light"
     },
     "output_type": "display_data"
    }
   ],
   "source": [
    "sns.jointplot(x = 'GMToyotaFord_GrowthAv', y = 'TotalGrowthAv', data = df_Growth)"
   ]
  },
  {
   "cell_type": "code",
   "execution_count": 11,
   "metadata": {},
   "outputs": [
    {
     "data": {
      "text/plain": [
       "<seaborn.axisgrid.JointGrid at 0x7f9c398fba90>"
      ]
     },
     "execution_count": 11,
     "metadata": {},
     "output_type": "execute_result"
    },
    {
     "data": {
      "image/png": "[encoded data removed]",
      "text/plain": [
       "<Figure size 432x432 with 3 Axes>"
      ]
     },
     "metadata": {
      "needs_background": "light"
     },
     "output_type": "display_data"
    }
   ],
   "source": [
    "sns.jointplot(x = 'Tesla_Growth', y = 'TotalGrowthAv', data = df_Growth)"
   ]
  },
  {
   "cell_type": "code",
   "execution_count": 12,
   "metadata": {},
   "outputs": [
    {
     "data": {
      "text/plain": [
       "<matplotlib.axes._subplots.AxesSubplot at 0x7f9c396d9e10>"
      ]
     },
     "execution_count": 12,
     "metadata": {},
     "output_type": "execute_result"
    },
    {
     "data": {
      "image/png": "[encoded data removed]",
      "text/plain": [
       "<Figure size 432x288 with 1 Axes>"
      ]
     },
     "metadata": {
      "needs_background": "light"
     },
     "output_type": "display_data"
    }
   ],
   "source": [
    "df_Growth.boxplot(column = [\"TotalGrowthAv\",\"GMToyotaFord_GrowthAv\", \"Tesla_Growth\"])"
   ]
  },
  {
   "cell_type": "code",
   "execution_count": 83,
   "metadata": {},
   "outputs": [
    {
     "data": {
      "text/html": [
       "<div>\n",
       "<style scoped>\n",
       "    .dataframe tbody tr th:only-of-type {\n",
       "        vertical-align: middle;\n",
       "    }\n",
       "\n",
       "    .dataframe tbody tr th {\n",
       "        vertical-align: top;\n",
       "    }\n",
       "\n",
       "    .dataframe thead th {\n",
       "        text-align: right;\n",
       "    }\n",
       "</style>\n",
       "<table border=\"1\" class=\"dataframe\">\n",
       "  <thead>\n",
       "    <tr style=\"text-align: right;\">\n",
       "      <th></th>\n",
       "      <th>TotalGrowthAv</th>\n",
       "      <th>GMToyotaFord_GrowthAv</th>\n",
       "      <th>Toyota_Growth</th>\n",
       "      <th>Tesla_Growth</th>\n",
       "      <th>GM_Growth</th>\n",
       "      <th>Ford_Growth</th>\n",
       "    </tr>\n",
       "  </thead>\n",
       "  <tbody>\n",
       "    <tr>\n",
       "      <th>TotalGrowthAv</th>\n",
       "      <td>1.000000</td>\n",
       "      <td>0.318051</td>\n",
       "      <td>0.190166</td>\n",
       "      <td>0.930652</td>\n",
       "      <td>0.316678</td>\n",
       "      <td>0.267721</td>\n",
       "    </tr>\n",
       "    <tr>\n",
       "      <th>GMToyotaFord_GrowthAv</th>\n",
       "      <td>0.318051</td>\n",
       "      <td>1.000000</td>\n",
       "      <td>0.695981</td>\n",
       "      <td>-0.050910</td>\n",
       "      <td>0.890242</td>\n",
       "      <td>0.825454</td>\n",
       "    </tr>\n",
       "    <tr>\n",
       "      <th>Toyota_Growth</th>\n",
       "      <td>0.190166</td>\n",
       "      <td>0.695981</td>\n",
       "      <td>1.000000</td>\n",
       "      <td>-0.068312</td>\n",
       "      <td>0.349172</td>\n",
       "      <td>0.210377</td>\n",
       "    </tr>\n",
       "    <tr>\n",
       "      <th>Tesla_Growth</th>\n",
       "      <td>0.930652</td>\n",
       "      <td>-0.050910</td>\n",
       "      <td>-0.068312</td>\n",
       "      <td>1.000000</td>\n",
       "      <td>-0.009993</td>\n",
       "      <td>-0.036541</td>\n",
       "    </tr>\n",
       "    <tr>\n",
       "      <th>GM_Growth</th>\n",
       "      <td>0.316678</td>\n",
       "      <td>0.890242</td>\n",
       "      <td>0.349172</td>\n",
       "      <td>-0.009993</td>\n",
       "      <td>1.000000</td>\n",
       "      <td>0.862294</td>\n",
       "    </tr>\n",
       "    <tr>\n",
       "      <th>Ford_Growth</th>\n",
       "      <td>0.267721</td>\n",
       "      <td>0.825454</td>\n",
       "      <td>0.210377</td>\n",
       "      <td>-0.036541</td>\n",
       "      <td>0.862294</td>\n",
       "      <td>1.000000</td>\n",
       "    </tr>\n",
       "  </tbody>\n",
       "</table>\n",
       "</div>"
      ],
      "text/plain": [
       "                       TotalGrowthAv  GMToyotaFord_GrowthAv  Toyota_Growth  \\\n",
       "TotalGrowthAv               1.000000               0.318051       0.190166   \n",
       "GMToyotaFord_GrowthAv       0.318051               1.000000       0.695981   \n",
       "Toyota_Growth               0.190166               0.695981       1.000000   \n",
       "Tesla_Growth                0.930652              -0.050910      -0.068312   \n",
       "GM_Growth                   0.316678               0.890242       0.349172   \n",
       "Ford_Growth                 0.267721               0.825454       0.210377   \n",
       "\n",
       "                       Tesla_Growth  GM_Growth  Ford_Growth  \n",
       "TotalGrowthAv              0.930652   0.316678     0.267721  \n",
       "GMToyotaFord_GrowthAv     -0.050910   0.890242     0.825454  \n",
       "Toyota_Growth             -0.068312   0.349172     0.210377  \n",
       "Tesla_Growth               1.000000  -0.009993    -0.036541  \n",
       "GM_Growth                 -0.009993   1.000000     0.862294  \n",
       "Ford_Growth               -0.036541   0.862294     1.000000  "
      ]
     },
     "execution_count": 83,
     "metadata": {},
     "output_type": "execute_result"
    }
   ],
   "source": [
    "df[[\"TotalGrowthAv\", \"GMToyotaFord_GrowthAv\",'Toyota_Growth', 'Tesla_Growth', 'GM_Growth', 'Ford_Growth']].corr()"
   ]
  },
  {
   "cell_type": "code",
   "execution_count": 84,
   "metadata": {},
   "outputs": [
    {
     "name": "stderr",
     "output_type": "stream",
     "text": [
      "/home/michel/anaconda3/lib/python3.7/site-packages/seaborn/axisgrid.py:2079: UserWarning: The `size` parameter has been renamed to `height`; please update your code.\n",
      "  warnings.warn(msg, UserWarning)\n"
     ]
    },
    {
     "data": {
      "text/plain": [
       "<seaborn.axisgrid.PairGrid at 0x7f07c4758750>"
      ]
     },
     "execution_count": 84,
     "metadata": {},
     "output_type": "execute_result"
    },
    {
     "data": {
      "image/png": "[encoded data removed]",
      "text/plain": [
       "<Figure size 1411.2x504 with 4 Axes>"
      ]
     },
     "metadata": {
      "needs_background": "light"
     },
     "output_type": "display_data"
    }
   ],
   "source": [
    "sns.pairplot(df_Growth, x_vars=['Toyota_Growth', 'Tesla_Growth', 'GM_Growth', 'Ford_Growth'], y_vars='TotalGrowthAv', size=7, aspect=0.7, kind='reg')"
   ]
  },
  {
   "cell_type": "code",
   "execution_count": 85,
   "metadata": {},
   "outputs": [
    {
     "data": {
      "text/plain": [
       "<matplotlib.axes._subplots.AxesSubplot at 0x7f07cf347110>"
      ]
     },
     "execution_count": 85,
     "metadata": {},
     "output_type": "execute_result"
    },
    {
     "data": {
      "image/png": "[encoded data removed]",
      "text/plain": [
       "<Figure size 432x288 with 2 Axes>"
      ]
     },
     "metadata": {
      "needs_background": "light"
     },
     "output_type": "display_data"
    }
   ],
   "source": [
    "sns.heatmap(df_Growth[[\"TotalGrowthAv\", \"GMToyotaFord_GrowthAv\",'Toyota_Growth', 'Tesla_Growth', 'GM_Growth', 'Ford_Growth']].corr(), cmap=\"Reds\", annot=True)"
   ]
  },
  {
   "cell_type": "code",
   "execution_count": 86,
   "metadata": {},
   "outputs": [
    {
     "data": {
      "text/plain": [
       "<seaborn.axisgrid.FacetGrid at 0x7f07c4231d10>"
      ]
     },
     "execution_count": 86,
     "metadata": {},
     "output_type": "execute_result"
    },
    {
     "data": {
      "image/png": "[encoded data removed]",
      "text/plain": [
       "<Figure size 360x360 with 1 Axes>"
      ]
     },
     "metadata": {
      "needs_background": "light"
     },
     "output_type": "display_data"
    }
   ],
   "source": [
    "sns.lmplot(y = 'TotalGrowthAv', x = 'GMToyotaFord_GrowthAv', data = df_Growth)"
   ]
  },
  {
   "cell_type": "code",
   "execution_count": 87,
   "metadata": {},
   "outputs": [
    {
     "data": {
      "text/plain": [
       "<seaborn.axisgrid.FacetGrid at 0x7f07c41d1a10>"
      ]
     },
     "execution_count": 87,
     "metadata": {},
     "output_type": "execute_result"
    },
    {
     "data": {
      "image/png": "[encoded data removed]",
      "text/plain": [
       "<Figure size 360x360 with 1 Axes>"
      ]
     },
     "metadata": {
      "needs_background": "light"
     },
     "output_type": "display_data"
    }
   ],
   "source": [
    "sns.lmplot(y = 'TotalGrowthAv', x = 'Tesla_Growth', data = df_Growth)"
   ]
  },
  {
   "cell_type": "markdown",
   "metadata": {},
   "source": [
    "# ML Model building "
   ]
  },
  {
   "cell_type": "code",
   "execution_count": 2,
   "metadata": {},
   "outputs": [],
   "source": [
    "import pandas as pd \n",
    "import matplotlib.pyplot as plt \n",
    "import numpy as np \n",
    "\n",
    "df = pd.read_csv(\"USGrowth10.csv\")\n",
    "\n",
    "\n",
    "# choose relevant data\n",
    "#df.replace(np.nan, 0, inplace=True) \n",
    "df.columns\n",
    "df_Growth = df\n",
    "\n",
    "# get dummy data\n",
    "df_dumGrowth = pd.get_dummies(df_Growth)"
   ]
  },
  {
   "cell_type": "code",
   "execution_count": 3,
   "metadata": {},
   "outputs": [
    {
     "data": {
      "text/plain": [
       "Index(['Year', 'TotalGrowthAv', 'GMToyotaFord_GrowthAv', 'Toyota_Growth',\n",
       "       'Tesla_Growth', 'GM_Growth', 'Ford_Growth'],\n",
       "      dtype='object')"
      ]
     },
     "execution_count": 3,
     "metadata": {},
     "output_type": "execute_result"
    }
   ],
   "source": [
    "df_dumGrowth.columns"
   ]
  },
  {
   "cell_type": "code",
   "execution_count": 4,
   "metadata": {},
   "outputs": [],
   "source": [
    "# train test split\n",
    "\n",
    "from sklearn.model_selection import train_test_split\n",
    "\n",
    "a = df_dumGrowth.drop('Year', axis =1)\n",
    "XGrowth = a\n",
    "yGrowth = a['TotalGrowthAv'].values\n",
    "\n",
    "XGrowth_train, XGrowth_test, yGrowth_train, yGrowth_test = train_test_split(XGrowth, yGrowth, test_size=0.2, random_state=42)"
   ]
  },
  {
   "cell_type": "code",
   "execution_count": 5,
   "metadata": {},
   "outputs": [
    {
     "data": {
      "text/html": [
       "<table class=\"simpletable\">\n",
       "<caption>OLS Regression Results</caption>\n",
       "<tr>\n",
       "  <th>Dep. Variable:</th>            <td>y</td>        <th>  R-squared:         </th> <td>   1.000</td> \n",
       "</tr>\n",
       "<tr>\n",
       "  <th>Model:</th>                   <td>OLS</td>       <th>  Adj. R-squared:    </th> <td>   1.000</td> \n",
       "</tr>\n",
       "<tr>\n",
       "  <th>Method:</th>             <td>Least Squares</td>  <th>  F-statistic:       </th> <td>4.112e+27</td>\n",
       "</tr>\n",
       "<tr>\n",
       "  <th>Date:</th>             <td>Wed, 26 Aug 2020</td> <th>  Prob (F-statistic):</th>  <td>  0.00</td>  \n",
       "</tr>\n",
       "<tr>\n",
       "  <th>Time:</th>                 <td>18:54:02</td>     <th>  Log-Likelihood:    </th> <td>  1054.0</td> \n",
       "</tr>\n",
       "<tr>\n",
       "  <th>No. Observations:</th>      <td>    39</td>      <th>  AIC:               </th> <td>  -2094.</td> \n",
       "</tr>\n",
       "<tr>\n",
       "  <th>Df Residuals:</th>          <td>    32</td>      <th>  BIC:               </th> <td>  -2082.</td> \n",
       "</tr>\n",
       "<tr>\n",
       "  <th>Df Model:</th>              <td>     6</td>      <th>                     </th>     <td> </td>    \n",
       "</tr>\n",
       "<tr>\n",
       "  <th>Covariance Type:</th>      <td>nonrobust</td>    <th>                     </th>     <td> </td>    \n",
       "</tr>\n",
       "</table>\n",
       "<table class=\"simpletable\">\n",
       "<tr>\n",
       "            <td></td>               <th>coef</th>     <th>std err</th>      <th>t</th>      <th>P>|t|</th>  <th>[0.025</th>    <th>0.975]</th>  \n",
       "</tr>\n",
       "<tr>\n",
       "  <th>const</th>                 <td>-7.772e-16</td> <td> 8.84e-14</td> <td>   -0.009</td> <td> 0.993</td> <td>-1.81e-13</td> <td> 1.79e-13</td>\n",
       "</tr>\n",
       "<tr>\n",
       "  <th>TotalGrowthAv</th>         <td>    1.0000</td> <td> 2.32e-11</td> <td> 4.31e+10</td> <td> 0.000</td> <td>    1.000</td> <td>    1.000</td>\n",
       "</tr>\n",
       "<tr>\n",
       "  <th>GMToyotaFord_GrowthAv</th> <td>         0</td> <td> 3.13e-11</td> <td>        0</td> <td> 1.000</td> <td>-6.38e-11</td> <td> 6.38e-11</td>\n",
       "</tr>\n",
       "<tr>\n",
       "  <th>Toyota_Growth</th>         <td>-1.421e-14</td> <td> 1.31e-11</td> <td>   -0.001</td> <td> 0.999</td> <td>-2.67e-11</td> <td> 2.67e-11</td>\n",
       "</tr>\n",
       "<tr>\n",
       "  <th>Tesla_Growth</th>          <td>-1.776e-15</td> <td>  5.8e-12</td> <td>   -0.000</td> <td> 1.000</td> <td>-1.18e-11</td> <td> 1.18e-11</td>\n",
       "</tr>\n",
       "<tr>\n",
       "  <th>GM_Growth</th>             <td>         0</td> <td> 1.31e-11</td> <td>        0</td> <td> 1.000</td> <td>-2.67e-11</td> <td> 2.67e-11</td>\n",
       "</tr>\n",
       "<tr>\n",
       "  <th>Ford_Growth</th>           <td>         0</td> <td> 1.31e-11</td> <td>        0</td> <td> 1.000</td> <td>-2.67e-11</td> <td> 2.67e-11</td>\n",
       "</tr>\n",
       "</table>\n",
       "<table class=\"simpletable\">\n",
       "<tr>\n",
       "  <th>Omnibus:</th>       <td>69.008</td> <th>  Durbin-Watson:     </th> <td>   1.837</td> \n",
       "</tr>\n",
       "<tr>\n",
       "  <th>Prob(Omnibus):</th> <td> 0.000</td> <th>  Jarque-Bera (JB):  </th> <td> 759.459</td> \n",
       "</tr>\n",
       "<tr>\n",
       "  <th>Skew:</th>          <td>-4.218</td> <th>  Prob(JB):          </th> <td>1.22e-165</td>\n",
       "</tr>\n",
       "<tr>\n",
       "  <th>Kurtosis:</th>      <td>22.904</td> <th>  Cond. No.          </th> <td>2.49e+04</td> \n",
       "</tr>\n",
       "</table><br/><br/>Warnings:<br/>[1] Standard Errors assume that the covariance matrix of the errors is correctly specified.<br/>[2] The condition number is large, 2.49e+04. This might indicate that there are<br/>strong multicollinearity or other numerical problems."
      ],
      "text/plain": [
       "<class 'statsmodels.iolib.summary.Summary'>\n",
       "\"\"\"\n",
       "                            OLS Regression Results                            \n",
       "==============================================================================\n",
       "Dep. Variable:                      y   R-squared:                       1.000\n",
       "Model:                            OLS   Adj. R-squared:                  1.000\n",
       "Method:                 Least Squares   F-statistic:                 4.112e+27\n",
       "Date:                Wed, 26 Aug 2020   Prob (F-statistic):               0.00\n",
       "Time:                        18:54:02   Log-Likelihood:                 1054.0\n",
       "No. Observations:                  39   AIC:                            -2094.\n",
       "Df Residuals:                      32   BIC:                            -2082.\n",
       "Df Model:                           6                                         \n",
       "Covariance Type:            nonrobust                                         \n",
       "=========================================================================================\n",
       "                            coef    std err          t      P>|t|      [0.025      0.975]\n",
       "-----------------------------------------------------------------------------------------\n",
       "const                 -7.772e-16   8.84e-14     -0.009      0.993   -1.81e-13    1.79e-13\n",
       "TotalGrowthAv             1.0000   2.32e-11   4.31e+10      0.000       1.000       1.000\n",
       "GMToyotaFord_GrowthAv          0   3.13e-11          0      1.000   -6.38e-11    6.38e-11\n",
       "Toyota_Growth         -1.421e-14   1.31e-11     -0.001      0.999   -2.67e-11    2.67e-11\n",
       "Tesla_Growth          -1.776e-15    5.8e-12     -0.000      1.000   -1.18e-11    1.18e-11\n",
       "GM_Growth                      0   1.31e-11          0      1.000   -2.67e-11    2.67e-11\n",
       "Ford_Growth                    0   1.31e-11          0      1.000   -2.67e-11    2.67e-11\n",
       "==============================================================================\n",
       "Omnibus:                       69.008   Durbin-Watson:                   1.837\n",
       "Prob(Omnibus):                  0.000   Jarque-Bera (JB):              759.459\n",
       "Skew:                          -4.218   Prob(JB):                    1.22e-165\n",
       "Kurtosis:                      22.904   Cond. No.                     2.49e+04\n",
       "==============================================================================\n",
       "\n",
       "Warnings:\n",
       "[1] Standard Errors assume that the covariance matrix of the errors is correctly specified.\n",
       "[2] The condition number is large, 2.49e+04. This might indicate that there are\n",
       "strong multicollinearity or other numerical problems.\n",
       "\"\"\""
      ]
     },
     "execution_count": 5,
     "metadata": {},
     "output_type": "execute_result"
    }
   ],
   "source": [
    "# multiple linear regression\n",
    "\n",
    "import statsmodels.api as sm\n",
    "from sklearn.linear_model import LinearRegression, Lasso\n",
    "from sklearn.model_selection import cross_val_score\n",
    "\n",
    "XGrowth_sm = XGrowth = sm.add_constant(XGrowth)\n",
    "modelGrowth = sm.OLS(yGrowth,XGrowth_sm)\n",
    "modelGrowth.fit().summary()"
   ]
  },
  {
   "cell_type": "code",
   "execution_count": 6,
   "metadata": {},
   "outputs": [
    {
     "data": {
      "text/plain": [
       "-3.1180745816005216e-15"
      ]
     },
     "execution_count": 6,
     "metadata": {},
     "output_type": "execute_result"
    }
   ],
   "source": [
    "lmGrowth = LinearRegression()\n",
    "lmGrowth.fit(XGrowth_train, yGrowth_train)\n",
    "np.mean(cross_val_score(lmGrowth,XGrowth_train,yGrowth_train, scoring = 'neg_mean_absolute_error', cv=5))"
   ]
  },
  {
   "cell_type": "code",
   "execution_count": 7,
   "metadata": {},
   "outputs": [
    {
     "data": {
      "text/plain": [
       "[<matplotlib.lines.Line2D at 0x7f548be42b10>]"
      ]
     },
     "execution_count": 7,
     "metadata": {},
     "output_type": "execute_result"
    },
    {
     "data": {
      "image/png": "[encoded data removed]",
      "text/plain": [
       "<Figure size 432x288 with 1 Axes>"
      ]
     },
     "metadata": {
      "needs_background": "light"
     },
     "output_type": "display_data"
    }
   ],
   "source": [
    "# lasso regression GROWTH\n",
    "\n",
    "lm_lGrowth = Lasso(alpha=.01)\n",
    "lm_lGrowth.fit(XGrowth_train,yGrowth_train)\n",
    "np.mean(cross_val_score(lm_lGrowth,XGrowth_train,yGrowth_train))\n",
    "\n",
    "alphaGrowth = []\n",
    "errorGrowth = []\n",
    "\n",
    "for i in range(1,300):\n",
    "    alphaGrowth.append(i/300)\n",
    "    lml = Lasso(alpha=(i/300))\n",
    "    errorGrowth.append(np.mean(cross_val_score(lml,XGrowth_train,yGrowth_train, scoring = 'neg_mean_absolute_error', cv=5)))\n",
    "    \n",
    "plt.plot(alphaGrowth,errorGrowth)"
   ]
  },
  {
   "cell_type": "code",
   "execution_count": 9,
   "metadata": {},
   "outputs": [
    {
     "data": {
      "text/html": [
       "<div>\n",
       "<style scoped>\n",
       "    .dataframe tbody tr th:only-of-type {\n",
       "        vertical-align: middle;\n",
       "    }\n",
       "\n",
       "    .dataframe tbody tr th {\n",
       "        vertical-align: top;\n",
       "    }\n",
       "\n",
       "    .dataframe thead th {\n",
       "        text-align: right;\n",
       "    }\n",
       "</style>\n",
       "<table border=\"1\" class=\"dataframe\">\n",
       "  <thead>\n",
       "    <tr style=\"text-align: right;\">\n",
       "      <th></th>\n",
       "      <th>alpha</th>\n",
       "      <th>error</th>\n",
       "    </tr>\n",
       "  </thead>\n",
       "  <tbody>\n",
       "    <tr>\n",
       "      <th>0</th>\n",
       "      <td>0.003333</td>\n",
       "      <td>-0.000204</td>\n",
       "    </tr>\n",
       "  </tbody>\n",
       "</table>\n",
       "</div>"
      ],
      "text/plain": [
       "      alpha     error\n",
       "0  0.003333 -0.000204"
      ]
     },
     "execution_count": 9,
     "metadata": {},
     "output_type": "execute_result"
    }
   ],
   "source": [
    "err = tuple(zip(alphaGrowth,errorGrowth))\n",
    "df_errGrowth = pd.DataFrame(err, columns = ['alpha','error'])\n",
    "df_errGrowth[df_errGrowth.error == max(df_errGrowth.error)]"
   ]
  },
  {
   "cell_type": "code",
   "execution_count": 10,
   "metadata": {},
   "outputs": [
    {
     "data": {
      "text/plain": [
       "-3.7015093939393933"
      ]
     },
     "execution_count": 10,
     "metadata": {},
     "output_type": "execute_result"
    }
   ],
   "source": [
    "# random forest\n",
    "\n",
    "from sklearn.ensemble import RandomForestRegressor\n",
    "rf = RandomForestRegressor()\n",
    "\n",
    "np.mean(cross_val_score(rf,XGrowth_train,yGrowth_train,scoring = 'neg_mean_absolute_error', cv= 3))"
   ]
  },
  {
   "cell_type": "code",
   "execution_count": 11,
   "metadata": {},
   "outputs": [
    {
     "data": {
      "text/plain": [
       "RandomForestRegressor(n_estimators=120)"
      ]
     },
     "execution_count": 11,
     "metadata": {},
     "output_type": "execute_result"
    }
   ],
   "source": [
    "# tune models GrindsearchCV\n",
    "\n",
    "from sklearn.model_selection import GridSearchCV\n",
    "parameters = {'n_estimators':range(10,300,10), 'criterion':('mse','mae'), 'max_features':('auto','sqrt','log2')}\n",
    "\n",
    "gsGrowth = GridSearchCV(rf,parameters,scoring='neg_mean_absolute_error',cv=3)\n",
    "gsGrowth.fit(XGrowth_train,yGrowth_train)\n",
    "gsGrowth.best_score_\n",
    "gsGrowth.best_estimator_"
   ]
  },
  {
   "cell_type": "code",
   "execution_count": 12,
   "metadata": {},
   "outputs": [
    {
     "data": {
      "text/plain": [
       "3.119032809806299e-15"
      ]
     },
     "execution_count": 12,
     "metadata": {},
     "output_type": "execute_result"
    }
   ],
   "source": [
    "# test ensembles\n",
    "from sklearn.metrics import mean_absolute_error\n",
    "\n",
    "tpred_lmGrowth = lmGrowth.predict(XGrowth_test)\n",
    "tpred_lmlGrowth = lm_lGrowth.predict(XGrowth_test)\n",
    "tpred_rfGrowth = gsGrowth.best_estimator_.predict(XGrowth_test)\n",
    "mean_absolute_error(yGrowth_test,tpred_lmGrowth)"
   ]
  },
  {
   "cell_type": "code",
   "execution_count": 13,
   "metadata": {},
   "outputs": [
    {
     "data": {
      "text/plain": [
       "0.00020406975146441443"
      ]
     },
     "execution_count": 13,
     "metadata": {},
     "output_type": "execute_result"
    }
   ],
   "source": [
    "mean_absolute_error(yGrowth_test,tpred_lmlGrowth)"
   ]
  },
  {
   "cell_type": "code",
   "execution_count": 14,
   "metadata": {},
   "outputs": [
    {
     "data": {
      "text/plain": [
       "0.5049270833333315"
      ]
     },
     "execution_count": 14,
     "metadata": {},
     "output_type": "execute_result"
    }
   ],
   "source": [
    "mean_absolute_error(yGrowth_test,tpred_rfGrowth)"
   ]
  },
  {
   "cell_type": "code",
   "execution_count": 15,
   "metadata": {},
   "outputs": [
    {
     "data": {
      "text/plain": [
       "0.252463541666665"
      ]
     },
     "execution_count": 15,
     "metadata": {},
     "output_type": "execute_result"
    }
   ],
   "source": [
    "mean_absolute_error(yGrowth_test,(tpred_lmGrowth+tpred_rfGrowth)/2)"
   ]
  },
  {
   "cell_type": "code",
   "execution_count": 16,
   "metadata": {},
   "outputs": [
    {
     "data": {
      "text/plain": [
       "1.0"
      ]
     },
     "execution_count": 16,
     "metadata": {},
     "output_type": "execute_result"
    }
   ],
   "source": [
    "from sklearn.metrics import r2_score\n",
    "r2_score(yGrowth_test,tpred_lmGrowth)"
   ]
  },
  {
   "cell_type": "code",
   "execution_count": null,
   "metadata": {},
   "outputs": [],
   "source": [
    "# Creating interactive API\n",
    "\n",
    "import pickle\n",
    "pickl = {'model': gsGrowth.best_estimator_}\n",
    "pickle.dump( pickl, open( 'model_file' + \".p\", \"wb\" ) )\n",
    "\n",
    "file_name = \"model_file.p\"\n",
    "with open(file_name, 'rb') as pickled:\n",
    "    data = pickle.load(pickled)\n",
    "    model = data['model']\n",
    "\n",
    "model.predict(np.array(list(XGrowth_test.iloc[1,:])).reshape(1,-1))[0]\n",
    "\n",
    "list(XGrowth_test.iloc[1,:])"
   ]
  }
 ],
 "metadata": {
  "kernelspec": {
   "display_name": "Python 3",
   "language": "python",
   "name": "python3"
  },
  "language_info": {
   "codemirror_mode": {
    "name": "ipython",
    "version": 3
   },
   "file_extension": ".py",
   "mimetype": "text/x-python",
   "name": "python",
   "nbconvert_exporter": "python",
   "pygments_lexer": "ipython3",
   "version": "3.7.6"
  }
 },
 "nbformat": 4,
 "nbformat_minor": 4
}
